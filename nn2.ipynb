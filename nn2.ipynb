{
 "cells": [
  {
   "cell_type": "markdown",
   "source": [
    "尝试不用GEO信息"
   ],
   "metadata": {
    "collapsed": false,
    "pycharm": {
     "name": "#%% md\n"
    }
   }
  },
  {
   "cell_type": "code",
   "execution_count": 1,
   "metadata": {
    "collapsed": true,
    "pycharm": {
     "name": "#%%\n"
    }
   },
   "outputs": [
    {
     "data": {
      "text/plain": "'1.12.1'"
     },
     "execution_count": 1,
     "metadata": {},
     "output_type": "execute_result"
    }
   ],
   "source": [
    "# %matplotlib inline\n",
    "import torch\n",
    "import torch.nn as nn\n",
    "# import torch.nn.functional as F\n",
    "import numpy as np\n",
    "import h5py as h5\n",
    "import pandas as pd\n",
    "from matplotlib import pyplot as plt\n",
    "from tqdm import tqdm\n",
    "from sklearn import preprocessing\n",
    "torch.__version__"
   ]
  },
  {
   "cell_type": "code",
   "execution_count": 2,
   "outputs": [],
   "source": [
    "class NN2(nn.Module):\n",
    "    def __init__(self):\n",
    "        super(NN2, self).__init__()\n",
    "        self.linear_relu_stack = nn.Sequential(\n",
    "            nn.Linear(5, 128),\n",
    "            nn.Sigmoid(),\n",
    "            nn.Linear(128, 1),\n",
    "        )\n",
    "\n",
    "    def forward(self, x):\n",
    "        logits_ = self.linear_relu_stack(x)\n",
    "        logits_.detach()\n",
    "        return logits_"
   ],
   "metadata": {
    "collapsed": false,
    "pycharm": {
     "name": "#%%\n"
    }
   }
  },
  {
   "cell_type": "code",
   "execution_count": 3,
   "outputs": [],
   "source": [
    "def generate_data(filename: str, p_trans: preprocessing.StandardScaler):\n",
    "    data = h5.File(filename, \"r\")\n",
    "    pe_truth = data[\"PETruth\"]\n",
    "    sim_truth = data[\"ParticleTruth\"]\n",
    "    pe_id = pd.DataFrame({'id': pe_truth['EventID'], 'PMT': pe_truth['ChannelID'], 't': pe_truth['PETime']})  # PE事件\n",
    "    pe_id = pe_id[pe_id['PMT'] < 17612]  # 只选取前17612个PMT\n",
    "    id_df = pd.DataFrame({'id': sim_truth['EventID'], 'p': sim_truth['p']}).sort_values('id')\n",
    "    p_array = id_df['p'].to_numpy()\n",
    "\n",
    "    del pe_truth, sim_truth, data, id_df\n",
    "\n",
    "    p_ts = torch.from_numpy(p_trans.fit_transform(p_array.reshape(-1, 1))).float()\n",
    "\n",
    "    pe_id = pd.merge(pe_id, pe_id.groupby(['id', 'PMT'], as_index=False).size(), how='left')\n",
    "\n",
    "    n_all = pe_id.groupby('id').size()\n",
    "    in_mean = pe_id.groupby('id').mean()\n",
    "    in_mean['PMT'] = n_all\n",
    "\n",
    "    in_std = pe_id.groupby('id').std()\n",
    "\n",
    "    in_df = pd.merge(in_mean, in_std, on='id', suffixes=('_mean', '_std'))\n",
    "    in_df.drop(columns=['PMT_std'], inplace=True)\n",
    "\n",
    "    in_ts = torch.tensor(in_df.to_numpy()).float()\n",
    "    ln = nn.LayerNorm(in_ts.shape[0])\n",
    "    in_ts = ln(in_ts.T).T\n",
    "    in_ts = torch.tensor(in_ts.data.numpy()).float()\n",
    "\n",
    "    del in_df, in_std, in_mean, n_all\n",
    "    return in_ts, p_ts, p_trans"
   ],
   "metadata": {
    "collapsed": false,
    "pycharm": {
     "name": "#%%\n"
    }
   }
  },
  {
   "cell_type": "code",
   "execution_count": 4,
   "outputs": [],
   "source": [
    "def training(in_ts: torch.Tensor, p_ts: torch.Tensor, batch_n=10000, step=5000, printing_step=500, filename_pt='nn2.pt'):\n",
    "    device = \"cuda\" if torch.cuda.is_available() else \"cpu\"\n",
    "    nn2 = NN2().to(device)\n",
    "    loss_func = torch.nn.MSELoss()\n",
    "    optimizer = torch.optim.Adam(nn2.parameters(), lr=0.002)\n",
    "    for i in tqdm(range(step)):\n",
    "        prediction_p = nn2(in_ts[:batch_n])\n",
    "        loss = loss_func(prediction_p, p_ts[:batch_n])\n",
    "        if not i % printing_step :\n",
    "            print(loss)\n",
    "        optimizer.zero_grad()\n",
    "        loss.backward()  # retain_graph=True\n",
    "        optimizer.step()\n",
    "        if loss.data < 0.001 and i > 200:\n",
    "            break\n",
    "    torch.save(nn2.state_dict(), filename_pt)\n",
    "    return nn2, loss_func"
   ],
   "metadata": {
    "collapsed": false,
    "pycharm": {
     "name": "#%%\n"
    }
   }
  },
  {
   "cell_type": "code",
   "execution_count": 5,
   "outputs": [],
   "source": [
    "p_trans0 = preprocessing.StandardScaler()\n",
    "in_ts0, p_ts0, p_trans0 = generate_data('0-exact.h5', p_trans0)"
   ],
   "metadata": {
    "collapsed": false,
    "pycharm": {
     "name": "#%%\n"
    }
   }
  },
  {
   "cell_type": "code",
   "execution_count": 7,
   "outputs": [],
   "source": [
    "p_trans2 = preprocessing.StandardScaler()\n",
    "in_ts2, p_ts2, p_trans2 = generate_data('2-exact.h5', p_trans2)"
   ],
   "metadata": {
    "collapsed": false,
    "pycharm": {
     "name": "#%%\n"
    }
   }
  },
  {
   "cell_type": "code",
   "execution_count": null,
   "outputs": [],
   "source": [
    "p_trans3 = preprocessing.StandardScaler()\n",
    "in_ts3, p_ts3, p_trans3 = generate_data('3-exact.h5', p_trans3)"
   ],
   "metadata": {
    "collapsed": false,
    "pycharm": {
     "name": "#%%\n"
    }
   }
  },
  {
   "cell_type": "code",
   "execution_count": 6,
   "outputs": [
    {
     "name": "stderr",
     "output_type": "stream",
     "text": [
      "  0%|          | 7/5000 [00:00<02:23, 34.70it/s]"
     ]
    },
    {
     "name": "stdout",
     "output_type": "stream",
     "text": [
      "tensor(1.2694, grad_fn=<MseLossBackward0>)\n"
     ]
    },
    {
     "name": "stderr",
     "output_type": "stream",
     "text": [
      " 20%|██        | 1012/5000 [00:18<01:15, 52.48it/s]"
     ]
    },
    {
     "name": "stdout",
     "output_type": "stream",
     "text": [
      "tensor(0.0045, grad_fn=<MseLossBackward0>)\n"
     ]
    },
    {
     "name": "stderr",
     "output_type": "stream",
     "text": [
      " 40%|████      | 2009/5000 [00:37<00:56, 52.49it/s]"
     ]
    },
    {
     "name": "stdout",
     "output_type": "stream",
     "text": [
      "tensor(0.0034, grad_fn=<MseLossBackward0>)\n"
     ]
    },
    {
     "name": "stderr",
     "output_type": "stream",
     "text": [
      " 60%|██████    | 3008/5000 [00:55<00:38, 52.25it/s]"
     ]
    },
    {
     "name": "stdout",
     "output_type": "stream",
     "text": [
      "tensor(0.0030, grad_fn=<MseLossBackward0>)\n"
     ]
    },
    {
     "name": "stderr",
     "output_type": "stream",
     "text": [
      " 80%|████████  | 4005/5000 [01:15<00:19, 51.67it/s]"
     ]
    },
    {
     "name": "stdout",
     "output_type": "stream",
     "text": [
      "tensor(0.0027, grad_fn=<MseLossBackward0>)\n"
     ]
    },
    {
     "name": "stderr",
     "output_type": "stream",
     "text": [
      "100%|██████████| 5000/5000 [01:36<00:00, 51.90it/s]\n"
     ]
    }
   ],
   "source": [
    "nn2_0, loss_f = training(in_ts0, p_ts0, 10000, 5000)"
   ],
   "metadata": {
    "collapsed": false,
    "pycharm": {
     "name": "#%%\n"
    }
   }
  },
  {
   "cell_type": "code",
   "execution_count": 8,
   "outputs": [
    {
     "data": {
      "text/plain": "tensor(0.0027, grad_fn=<MseLossBackward0>)"
     },
     "execution_count": 8,
     "metadata": {},
     "output_type": "execute_result"
    }
   ],
   "source": [
    "loss_f(p_ts0, nn2_0(in_ts0))    # 训练集 '0-exact.h5'"
   ],
   "metadata": {
    "collapsed": false,
    "pycharm": {
     "name": "#%%\n"
    }
   }
  },
  {
   "cell_type": "code",
   "execution_count": 9,
   "outputs": [
    {
     "data": {
      "text/plain": "tensor(0.0042, grad_fn=<MseLossBackward0>)"
     },
     "execution_count": 9,
     "metadata": {},
     "output_type": "execute_result"
    }
   ],
   "source": [
    "loss_f(p_ts2, nn2_0(in_ts2))    # 测试集 '2-exact.h5'"
   ],
   "metadata": {
    "collapsed": false,
    "pycharm": {
     "name": "#%%\n"
    }
   }
  },
  {
   "cell_type": "code",
   "execution_count": 10,
   "outputs": [],
   "source": [
    "def cal_error(net: nn.Module, input_data: np.ndarray, label: np.ndarray):\n",
    "    return np.sqrt(np.mean((label.flatten() - net(torch.tensor(input_data)).data.numpy().flatten()) ** 2 / label.flatten()))"
   ],
   "metadata": {
    "collapsed": false,
    "pycharm": {
     "name": "#%%\n"
    }
   }
  },
  {
   "cell_type": "code",
   "execution_count": 12,
   "outputs": [
    {
     "data": {
      "text/plain": "0.012884793"
     },
     "execution_count": 12,
     "metadata": {},
     "output_type": "execute_result"
    }
   ],
   "source": [
    "cal_error(nn2_0, in_ts0.data.numpy(), p_ts0.data.numpy())   # 训练集 '0-exact.h5'"
   ],
   "metadata": {
    "collapsed": false,
    "pycharm": {
     "name": "#%%\n"
    }
   }
  },
  {
   "cell_type": "code",
   "execution_count": 11,
   "outputs": [
    {
     "data": {
      "text/plain": "0.011503707"
     },
     "execution_count": 11,
     "metadata": {},
     "output_type": "execute_result"
    }
   ],
   "source": [
    "cal_error(nn2_0, in_ts2.data.numpy(), p_ts2.data.numpy())   # 测试集 '2-exact.h5'"
   ],
   "metadata": {
    "collapsed": false,
    "pycharm": {
     "name": "#%%\n"
    }
   }
  }
 ],
 "metadata": {
  "kernelspec": {
   "display_name": "Python 3",
   "language": "python",
   "name": "python3"
  },
  "language_info": {
   "codemirror_mode": {
    "name": "ipython",
    "version": 2
   },
   "file_extension": ".py",
   "mimetype": "text/x-python",
   "name": "python",
   "nbconvert_exporter": "python",
   "pygments_lexer": "ipython2",
   "version": "2.7.6"
  }
 },
 "nbformat": 4,
 "nbformat_minor": 0
}